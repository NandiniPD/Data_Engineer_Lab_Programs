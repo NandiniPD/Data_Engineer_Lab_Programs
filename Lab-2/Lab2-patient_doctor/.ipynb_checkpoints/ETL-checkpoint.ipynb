{
 "cells": [
  {
   "cell_type": "code",
   "execution_count": 1,
   "id": "d1b03f64",
   "metadata": {},
   "outputs": [],
   "source": [
    "import pandas as pd\n",
    "import os\n"
   ]
  },
  {
   "cell_type": "code",
   "execution_count": 2,
   "id": "18ab9dad",
   "metadata": {},
   "outputs": [],
   "source": [
    "# Ensure warehouse folder exists\n",
    "os.makedirs(\"data_warehouse\", exist_ok=True)"
   ]
  },
  {
   "cell_type": "markdown",
   "id": "4416cdc8",
   "metadata": {},
   "source": [
    "### 1. Ingestion"
   ]
  },
  {
   "cell_type": "code",
   "execution_count": 13,
   "id": "14ad035f",
   "metadata": {},
   "outputs": [
    {
     "name": "stdout",
     "output_type": "stream",
     "text": [
      "Index(['patient_id', 'treatment_id', 'patient_feedback_score', 'review_date'], dtype='object')\n"
     ]
    }
   ],
   "source": [
    "patients_df = pd.read_csv(r\"raw data\\patients_data_with_doctor.csv\")\n",
    "\n",
    "doctors_df = pd.read_csv(r\"raw data\\doctors_info.csv\")\n",
    "feedback_df = pd.read_json(r\"raw data\\patient_feedback.json\")\n",
    "print(feedback_df.columns)"
   ]
  },
  {
   "cell_type": "markdown",
   "id": "2c1769cd",
   "metadata": {},
   "source": [
    "### 2. Cleansing"
   ]
  },
  {
   "cell_type": "code",
   "execution_count": 14,
   "id": "f10bfc4a",
   "metadata": {},
   "outputs": [],
   "source": [
    "\n",
    "# Calculate total charges from treatment and room cost\n",
    "patients_df['total_charges'] = (\n",
    "    pd.to_numeric(patients_df['treatment_cost'], errors='coerce').fillna(0) +\n",
    "    pd.to_numeric(patients_df['room_cost'], errors='coerce').fillna(0)\n",
    ")\n"
   ]
  },
  {
   "cell_type": "code",
   "execution_count": 15,
   "id": "c232d1ea",
   "metadata": {},
   "outputs": [],
   "source": [
    "# Standardize date formats\n",
    "patients_df['treatment_date'] = pd.to_datetime(patients_df['treatment_date'], errors='coerce')\n",
    "feedback_df['review_date'] = pd.to_datetime(feedback_df['review_date'], errors='coerce')\n",
    "\n",
    "\n"
   ]
  },
  {
   "cell_type": "markdown",
   "id": "ec8fb22e",
   "metadata": {},
   "source": [
    "### 3. Transformation"
   ]
  },
  {
   "cell_type": "code",
   "execution_count": 16,
   "id": "d84f6cf1",
   "metadata": {},
   "outputs": [],
   "source": [
    "\n",
    "# Merge patients with doctor info\n",
    "merged_df = patients_df.merge(doctors_df, on='doctor_id', how='left')\n",
    "# Keep latest feedback per patient\n",
    "feedback_df = feedback_df.sort_values('review_date').drop_duplicates(\n",
    "    subset=['patient_id'], keep='last'\n",
    ")\n",
    "\n",
    "# Merge feedback into patient-doctor data\n",
    "merged_df = merged_df.merge(feedback_df, on='patient_id', how='left')\n",
    "\n",
    "# Remove invalid rows (e.g., zero charges or missing doctor)\n",
    "merged_df = merged_df[(merged_df['total_charges'] > 0) & (merged_df['doctor_id'].notna())]\n"
   ]
  },
  {
   "cell_type": "markdown",
   "id": "79c9875b",
   "metadata": {},
   "source": [
    "### 4. Loading to warehouse"
   ]
  },
  {
   "cell_type": "code",
   "execution_count": 17,
   "id": "27b6f162",
   "metadata": {},
   "outputs": [
    {
     "name": "stdout",
     "output_type": "stream",
     "text": [
      "✅ Processed data saved to data_warehouse/processed_patient_data.csv\n"
     ]
    }
   ],
   "source": [
    "\n",
    "processed_path = \"data_warehouse/processed_patient_data.csv\"\n",
    "merged_df.to_csv(processed_path, index=False)\n",
    "\n",
    "print(f\"✅ Processed data saved to {processed_path}\")\n"
   ]
  },
  {
   "cell_type": "code",
   "execution_count": null,
   "id": "b9cfd1a3",
   "metadata": {},
   "outputs": [],
   "source": []
  }
 ],
 "metadata": {
  "kernelspec": {
   "display_name": "Python 3 (ipykernel)",
   "language": "python",
   "name": "python3"
  },
  "language_info": {
   "codemirror_mode": {
    "name": "ipython",
    "version": 3
   },
   "file_extension": ".py",
   "mimetype": "text/x-python",
   "name": "python",
   "nbconvert_exporter": "python",
   "pygments_lexer": "ipython3",
   "version": "3.11.5"
  }
 },
 "nbformat": 4,
 "nbformat_minor": 5
}
