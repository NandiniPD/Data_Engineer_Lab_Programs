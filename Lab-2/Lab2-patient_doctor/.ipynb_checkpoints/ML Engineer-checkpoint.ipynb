{
 "cells": [
  {
   "cell_type": "code",
   "execution_count": 4,
   "id": "510d6017",
   "metadata": {},
   "outputs": [],
   "source": [
    "import pandas as pd\n",
    "import numpy as np\n",
    "from sklearn.preprocessing import MinMaxScaler\n",
    "from sklearn.cluster import KMeans\n",
    "import os\n",
    "import json\n"
   ]
  },
  {
   "cell_type": "code",
   "execution_count": 6,
   "id": "66d8a91a",
   "metadata": {},
   "outputs": [],
   "source": [
    "# 1. Load datasets\n",
    "patients_df = pd.read_csv(r\"raw data\\patients_data_with_doctor.csv\")\n",
    "doctors_df = pd.read_csv(r\"raw data\\doctors_info.csv\")\n",
    "\n",
    "with open(r\"raw data\\patient_feedback.json\", \"r\") as f:\n",
    "    feedback_data = json.load(f)\n",
    "\n",
    "feedback_df = pd.DataFrame(feedback_data)\n",
    "\n",
    "# Remove whitespace from column names (if any)\n",
    "patients_df.columns = patients_df.columns.str.strip()\n",
    "doctors_df.columns = doctors_df.columns.str.strip()\n",
    "feedback_df.columns = feedback_df.columns.str.strip()\n"
   ]
  },
  {
   "cell_type": "code",
   "execution_count": 7,
   "id": "3fa1651c",
   "metadata": {},
   "outputs": [],
   "source": [
    "# 2. Preprocess treatment cost\n",
    "\n",
    "patients_df['treatment_cost'] = pd.to_numeric(\n",
    "    patients_df['treatment_cost'], errors='coerce'\n",
    ").fillna(0)\n",
    "\n"
   ]
  },
  {
   "cell_type": "code",
   "execution_count": 8,
   "id": "bc43a9b8",
   "metadata": {},
   "outputs": [],
   "source": [
    "# 3. Calculate patient-level metrics\n",
    "\n",
    "patient_metrics = patients_df.groupby('patient_id').agg(\n",
    "    total_treatment_cost=('treatment_cost', 'sum'),\n",
    "    visit_frequency=('treatment_cost', 'count'),\n",
    "    avg_treatment_value=('treatment_cost', 'mean')\n",
    ").reset_index()\n",
    "\n",
    "# Fill missing values\n",
    "patient_metrics = patient_metrics.fillna(0)\n",
    "\n"
   ]
  },
  {
   "cell_type": "code",
   "execution_count": 9,
   "id": "75627167",
   "metadata": {},
   "outputs": [],
   "source": [
    "# 4. Normalize features\n",
    "\n",
    "scaler = MinMaxScaler()\n",
    "scaled_features = scaler.fit_transform(\n",
    "    patient_metrics[['total_treatment_cost', 'visit_frequency', 'avg_treatment_value']]\n",
    ")\n"
   ]
  },
  {
   "cell_type": "code",
   "execution_count": 10,
   "id": "4442c305",
   "metadata": {},
   "outputs": [],
   "source": [
    "# 5. Apply K-Means clustering\n",
    "\n",
    "kmeans = KMeans(n_clusters=2, random_state=42, n_init=10)\n",
    "patient_metrics['cluster'] = kmeans.fit_predict(scaled_features)\n",
    "\n",
    "\n",
    "# 6. Identify VIP cluster\n",
    "vip_cluster = patient_metrics.groupby('cluster')['total_treatment_cost'].mean().idxmax()\n",
    "patient_metrics['VIP_status'] = np.where(\n",
    "    patient_metrics['cluster'] == vip_cluster, 'VIP', 'Non-VIP'\n",
    ")\n",
    "\n",
    "\n",
    "# 7. Merge VIP status back (Reverse ETL)\n",
    "patients_enriched = patients_df.merge(\n",
    "    patient_metrics[['patient_id', 'VIP_status']], on='patient_id', how='left'\n",
    ")\n",
    "\n",
    "# Merge with doctors info\n",
    "patients_enriched = patients_enriched.merge(doctors_df, on='doctor_id', how='left')\n",
    "\n",
    "# Merge with feedback (if it contains patient_id)\n",
    "if 'patient_id' in feedback_df.columns:\n",
    "    patients_enriched = patients_enriched.merge(feedback_df, on='patient_id', how='left')\n",
    "\n"
   ]
  },
  {
   "cell_type": "code",
   "execution_count": 11,
   "id": "e8d0eaa9",
   "metadata": {},
   "outputs": [
    {
     "name": "stdout",
     "output_type": "stream",
     "text": [
      "✅ VIP classification complete. File saved as 'data_warehouse/patient_data_with_VIP.csv'\n"
     ]
    }
   ],
   "source": [
    "# 8. Save enriched dataset\n",
    "os.makedirs(\"data_warehouse\", exist_ok=True)\n",
    "output_path = \"data_warehouse/patient_data_with_VIP.csv\"\n",
    "patients_enriched.to_csv(output_path, index=False)\n",
    "\n",
    "print(f\"✅ VIP classification complete. File saved as '{output_path}'\")"
   ]
  }
 ],
 "metadata": {
  "kernelspec": {
   "display_name": "Python 3 (ipykernel)",
   "language": "python",
   "name": "python3"
  },
  "language_info": {
   "codemirror_mode": {
    "name": "ipython",
    "version": 3
   },
   "file_extension": ".py",
   "mimetype": "text/x-python",
   "name": "python",
   "nbconvert_exporter": "python",
   "pygments_lexer": "ipython3",
   "version": "3.11.5"
  }
 },
 "nbformat": 4,
 "nbformat_minor": 5
}
